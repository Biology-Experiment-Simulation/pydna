{
 "cells": [
  {
   "cell_type": "code",
   "execution_count": 1,
   "metadata": {
    "collapsed": false
   },
   "outputs": [],
   "source": [
    "new_primers = '''\n",
    "\n",
    "> XLNDf_2274\n",
    "TTGAGTTGGCGTTGAATTTGGAGAGGAAG\n",
    "> SsXYL1rev_79\n",
    "ATAGCACGGTAGATCTGTTCAGAAC\n",
    "> Amp.FW\n",
    "GAAAAGCGTTTACCTCGGAACTCTATTGTAAACCCTGATAAATGCTTC\n",
    "> Amp.REV\n",
    "AGAAAGTCTACACCTTACGCTGATTGGATTTGAAGTTTTAAATCAATCTAAA\n",
    "> Pbr.FW\n",
    "AATCCAATCAGCGTAAGGTGTAGACTTTCTCTCGTTTCATCGGTAT\n",
    "> Pbr.REV\n",
    "GTTGACTACTATTTACGCAGCAGATACGATCTGTCAGACCAAGTTTACT\n",
    "> Micron.FW\n",
    "ATCGTATCTGCTGCGTAAATAGTAGTCAACGATCGTACTTGTTACCCAT\n",
    "> Micron.REV\n",
    "CAGAGCAGACAGTTCCTTTACGAGATTTTAGATCCAATATCAAAGGAA\n",
    "> dLeu.FW\n",
    "TAAAATCTCGTAAAGGAACTGTCTGCTCTTATATATATTTCAAGGATATACCATT\n",
    "> dLeu.REV\n",
    "ACGGACTACGAGATACCTGATTTTACAGTTTAAGGCCGTTTCTGAC\n",
    "> Leu2.FW\n",
    "TAAAATCTCGTAAAGGAACTGTCTGCTCTGTTAACTGTGGGAATACTC\n",
    "> Leu2.REV\n",
    "ACGGACTACGAGATACCTGATTTTACAGTTTCTACCCTATGAACATATTC\n",
    "> Crp.FW\n",
    "AACTGTAAAATCAGGTATCTCGTAGTCCGTGTTCTGATCCTCGAGC\n",
    "> Crp.REV\n",
    "TACAATAGAGTTCCGAGGTAAACGCTTTTCGTTCTTGTCTCATTGCC\n",
    "> Paulo.577\n",
    "TGCAGGTCGACTCTAGAGGATCCCCGTTCGATCCTCGAGCATCTTAAGAATTC\n",
    "> Paulo.578\n",
    "GCCAGTGAATTCGAGCTCGGTACCCGTTCTTGTCTCATTGCCACATTCATAAGT\n",
    "\n",
    "'''"
   ]
  },
  {
   "cell_type": "code",
   "execution_count": 2,
   "metadata": {
    "collapsed": false
   },
   "outputs": [
    {
     "name": "stdout",
     "output_type": "stream",
     "text": [
      ">990_XLNDf_2274  XLNDf_2274\n",
      "TTGAGTTGGCGTTGAATTTGGAGAGGAAG\n",
      "\n",
      ">989_SsXYL1rev_79  SsXYL1rev_79\n",
      "ATAGCACGGTAGATCTGTTCAGAAC\n",
      "\n",
      ">988_Amp.FW  Amp.FW\n",
      "GAAAAGCGTTTACCTCGGAACTCTATTGTAAACCCTGATAAATGCTTC\n",
      "\n",
      ">987_Amp.REV  Amp.REV\n",
      "AGAAAGTCTACACCTTACGCTGATTGGATTTGAAGTTTTAAATCAATCTAAA\n",
      "\n",
      ">986_Pbr.FW  Pbr.FW\n",
      "AATCCAATCAGCGTAAGGTGTAGACTTTCTCTCGTTTCATCGGTAT\n",
      "\n",
      ">985_Pbr.REV  Pbr.REV\n",
      "GTTGACTACTATTTACGCAGCAGATACGATCTGTCAGACCAAGTTTACT\n",
      "\n",
      ">984_Micron.FW  Micron.FW\n",
      "ATCGTATCTGCTGCGTAAATAGTAGTCAACGATCGTACTTGTTACCCAT\n",
      "\n",
      ">983_Micron.REV  Micron.REV\n",
      "CAGAGCAGACAGTTCCTTTACGAGATTTTAGATCCAATATCAAAGGAA\n",
      "\n",
      ">982_dLeu.FW  dLeu.FW\n",
      "TAAAATCTCGTAAAGGAACTGTCTGCTCTTATATATATTTCAAGGATATACCATT\n",
      "\n",
      ">981_dLeu.REV  dLeu.REV\n",
      "ACGGACTACGAGATACCTGATTTTACAGTTTAAGGCCGTTTCTGAC\n",
      "\n",
      ">980_Leu2.FW  Leu2.FW\n",
      "TAAAATCTCGTAAAGGAACTGTCTGCTCTGTTAACTGTGGGAATACTC\n",
      "\n",
      ">979_Leu2.REV  Leu2.REV\n",
      "ACGGACTACGAGATACCTGATTTTACAGTTTCTACCCTATGAACATATTC\n",
      "\n",
      ">978_Crp.FW  Crp.FW\n",
      "AACTGTAAAATCAGGTATCTCGTAGTCCGTGTTCTGATCCTCGAGC\n",
      "\n",
      ">977_Crp.REV  Crp.REV\n",
      "TACAATAGAGTTCCGAGGTAAACGCTTTTCGTTCTTGTCTCATTGCC\n",
      "\n",
      ">976_Paulo.577  Paulo.577\n",
      "TGCAGGTCGACTCTAGAGGATCCCCGTTCGATCCTCGAGCATCTTAAGAATTC\n",
      "\n",
      ">975_Paulo.578  Paulo.578\n",
      "GCCAGTGAATTCGAGCTCGGTACCCGTTCTTGTCTCATTGCCACATTCATAAGT\n",
      "\n",
      "\n"
     ]
    }
   ],
   "source": [
    "from pydna.parsers import parse_primers\n",
    "\n",
    "from pydna.myprimers import primer_list\n",
    "\n",
    "from pydna.utils import eq\n",
    "\n",
    "np = parse_primers(new_primers)\n",
    "\n",
    "start = len(primer_list)\n",
    "\n",
    "last_primer = primer_list[-1]\n",
    "\n",
    "assert str(start-1) in last_primer.id\n",
    "\n",
    "npstring = \"\"\n",
    "\n",
    "for p in np[::-1]:\n",
    "    if any( eq(p,x) for x in primer_list):\n",
    "        print(p.id, \"already in primer_list\\n\\n\")\n",
    "        continue    \n",
    "    p.id = \"{}_{}\".format(str(start),p.id)\n",
    "    start+=1\n",
    "    npstring = p.format(\"fasta\")+\"\\n\" + npstring\n",
    "\n",
    "print(npstring)"
   ]
  },
  {
   "cell_type": "code",
   "execution_count": 3,
   "metadata": {
    "collapsed": true
   },
   "outputs": [],
   "source": [
    "import os\n",
    "filename = os.getenv(\"pydna_primers\")\n",
    "\n",
    "import shutil\n",
    "\n",
    "shutil.copy(filename, filename+\".bak\")\n",
    "\n",
    "with open(filename, 'r') as original: \n",
    "    data = original.read()\n",
    "\n",
    "header, footer = data.split(primer_list[-1].format(\"fasta\"), 2)\n",
    "\n",
    "with open(filename, 'w') as modified: \n",
    "    modified.write(header + npstring + last_primer.format(\"fasta\") + footer)"
   ]
  }
 ],
 "metadata": {
  "anaconda-cloud": {},
  "kernelspec": {
   "display_name": "Python 3",
   "language": "python",
   "name": "python3"
  },
  "language_info": {
   "codemirror_mode": {
    "name": "ipython",
    "version": 3
   },
   "file_extension": ".py",
   "mimetype": "text/x-python",
   "name": "python",
   "nbconvert_exporter": "python",
   "pygments_lexer": "ipython3",
   "version": "3.5.2"
  }
 },
 "nbformat": 4,
 "nbformat_minor": 0
}
