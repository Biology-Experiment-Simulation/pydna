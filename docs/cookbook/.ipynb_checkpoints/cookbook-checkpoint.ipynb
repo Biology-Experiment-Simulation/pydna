{
 "cells": [
  {
   "cell_type": "markdown",
   "metadata": {},
   "source": [
    "# Cookbook for pydna\n",
    "\n",
    "Björn Johansson\n",
    "CBMA\n",
    "University of Minho\n",
    "Braga\n",
    "Portugal\n",
    "\n",
    "![logo](logo.png \"logo\")"
   ]
  },
  {
   "cell_type": "markdown",
   "metadata": {},
   "source": [
    "## What is pydna?\n",
    "\n",
    "Pydna is a python package that provides functions and data types to deal with double stranded DNA. It depends on Biopython (a python bioinformatics package), networkx (a graph theory package) and numpy (a mathematics package).\n",
    "\n",
    "## What does Python dna provide?\n",
    "\n",
    "Python dna provide classes and functions for molecular biology using python. Notably, PCR, cut and paste cloning (sub-cloning) and homologous recombination between linear DNA fragments are supported. Most functionality is implemented as methods for the double stranded DNA sequence record classes “Dseq” and \"Dseqrecord\", which are a subclasses of the Biopython Seq and SeqRecord classes, respectively.\n",
    "\n",
    "Pydna was designed to semantically imitate how sub-cloning experiments are typically documented in scientific literature. One use case for pydna is to create executable documentation for a sub-cloning experiment. The pydna code unambiguously describe the experiment, and can be executed to yield the sequence of the of the resulting DNA molecule(s) and all intermediary steps.  Pydna code describing a sub cloning is reasonably compact and also meant to be easily readable.\n",
    "\n",
    "Look [here](https://github.com/BjornFJohansson/pydna-examples) for examples."
   ]
  },
  {
   "cell_type": "code",
   "execution_count": 1,
   "metadata": {},
   "outputs": [
    {
     "data": {
      "text/html": [
       "<a href='https://www.ncbi.nlm.nih.gov/nuccore/KC562906?from=&to=&strand=1' target='_blank'>KC562906</a>"
      ],
      "text/plain": [
       "Gbank(KC562906)(o9637)"
      ]
     },
     "execution_count": 1,
     "metadata": {},
     "output_type": "execute_result"
    }
   ],
   "source": [
    "from pydna.genbank import Genbank\n",
    "gb = Genbank(\"myemail@mydomain.com\")\n",
    "YEp24PGK = gb.nucleotide(\"KC562906\")\n",
    "YEp24PGK"
   ]
  },
  {
   "cell_type": "code",
   "execution_count": 2,
   "metadata": {},
   "outputs": [
    {
     "data": {
      "text/html": [
       "<a href='https://www.ncbi.nlm.nih.gov/nuccore/NM_001181706.1?from=&to=&strand=1' target='_blank'>NM_001181706.1</a>"
      ],
      "text/plain": [
       "Gbank(NM_001181706.1)(-330)"
      ]
     },
     "execution_count": 2,
     "metadata": {},
     "output_type": "execute_result"
    }
   ],
   "source": [
    "cyc1 = gb.nucleotide('NM_001181706.1')\n",
    "cyc1"
   ]
  },
  {
   "cell_type": "code",
   "execution_count": 3,
   "metadata": {},
   "outputs": [],
   "source": [
    "from pydna.design import primer_design\n",
    "cyc1_prd = primer_design(cyc1[:-3])"
   ]
  },
  {
   "cell_type": "code",
   "execution_count": 4,
   "metadata": {},
   "outputs": [
    {
     "data": {
      "text/plain": [
       "Dseqrecord(-717)"
      ]
     },
     "execution_count": 4,
     "metadata": {},
     "output_type": "execute_result"
    }
   ],
   "source": [
    "gfp = gb.nucleotide('AF298787 REGION: 2271..2987').reverse_complement()\n",
    "gfp"
   ]
  },
  {
   "cell_type": "code",
   "execution_count": 5,
   "metadata": {},
   "outputs": [],
   "source": [
    "gfp_prd = primer_design(gfp)"
   ]
  },
  {
   "cell_type": "code",
   "execution_count": 6,
   "metadata": {},
   "outputs": [
    {
     "data": {
      "text/plain": [
       "Dseqrecord(-9641)"
      ]
     },
     "execution_count": 6,
     "metadata": {},
     "output_type": "execute_result"
    }
   ],
   "source": [
    "from Bio.Restriction import BglII\n",
    "yep_bgl = YEp24PGK.linearize(BglII)\n",
    "yep_bgl"
   ]
  },
  {
   "cell_type": "code",
   "execution_count": 7,
   "metadata": {},
   "outputs": [
    {
     "data": {
      "text/plain": [
       "Dseq(-9641)\n",
       "GATCTCCC..AAAA    \n",
       "    AGGG..TTTTCTAG"
      ]
     },
     "execution_count": 7,
     "metadata": {},
     "output_type": "execute_result"
    }
   ],
   "source": [
    "yep_bgl.seq"
   ]
  },
  {
   "cell_type": "code",
   "execution_count": 8,
   "metadata": {},
   "outputs": [],
   "source": [
    "from pydna.design import assembly_fragments\n",
    "vec, cyc1_prd, gfp_prd, vec = assembly_fragments( (yep_bgl, cyc1_prd, gfp_prd, yep_bgl) )"
   ]
  },
  {
   "cell_type": "code",
   "execution_count": 9,
   "metadata": {},
   "outputs": [
    {
     "data": {
      "text/html": [
       "Amplicon(380)"
      ],
      "text/plain": [
       "Amplicon(380)"
      ]
     },
     "execution_count": 9,
     "metadata": {},
     "output_type": "execute_result"
    }
   ],
   "source": [
    "cyc1_prd"
   ]
  },
  {
   "cell_type": "code",
   "execution_count": 10,
   "metadata": {},
   "outputs": [
    {
     "data": {
      "text/plain": [
       "                                   5ATGACTGAATTCAAGGC...TGAAAAAAGCCTGTGAG3\n",
       "                                                        ||||||||||||||||| tm 50.8 (dbd) 56.5\n",
       "                                                       3ACTTTTTTCGGACACTCTACAGATTTCCACTTCTT5\n",
       "5ATTATCTACTTTTTACAACAAATATAAAACCAAAAATGACTGAATTCAAGGC3\n",
       "                                    ||||||||||||||||| tm 50.2 (dbd) 55.0\n",
       "                                   3TACTGACTTAAGTTCCG...ACTTTTTTCGGACACTC5"
      ]
     },
     "execution_count": 10,
     "metadata": {},
     "output_type": "execute_result"
    }
   ],
   "source": [
    "cyc1_prd.figure()"
   ]
  },
  {
   "cell_type": "code",
   "execution_count": 11,
   "metadata": {},
   "outputs": [
    {
     "data": {
      "text/plain": [
       "\n",
       "Taq (rate 30 nt/s) 35 cycles             |380bp\n",
       "95.0°C    |95.0°C                 |      |Tm formula: Biopython Tm_NN\n",
       "|_________|_____          72.0°C  |72.0°C|SaltC 50mM\n",
       "| 03min00s|30s  \\         ________|______|Primer1C 1.0µM\n",
       "|         |      \\ 52.3°C/ 0min11s| 5min |Primer2C 1.0µM\n",
       "|         |       \\_____/         |      |GC 40%\n",
       "|         |         30s           |      |4-12°C"
      ]
     },
     "execution_count": 11,
     "metadata": {},
     "output_type": "execute_result"
    }
   ],
   "source": [
    "cyc1_prd.program()"
   ]
  },
  {
   "cell_type": "code",
   "execution_count": 12,
   "metadata": {},
   "outputs": [
    {
     "data": {
      "text/html": [
       "Amplicon(770)"
      ],
      "text/plain": [
       "Amplicon(770)"
      ]
     },
     "execution_count": 12,
     "metadata": {},
     "output_type": "execute_result"
    }
   ],
   "source": [
    "gfp_prd"
   ]
  },
  {
   "cell_type": "code",
   "execution_count": 14,
   "metadata": {},
   "outputs": [
    {
     "data": {
      "text/plain": [
       "                  5ATGTCTAAAGGTGAAGAATTATT...GTATGGATGAATTGTACAAATAA3\n",
       "                                             ||||||||||||||||||||||| tm 50.1 (dbd) 56.4\n",
       "                                            3CATACCTACTTAACATGTTTATTCTAGAGGGTACAGAGATGACCACCACCACGAAGAA5\n",
       "5TTGAAAAAAGCCTGTGAGATGTCTAAAGGTGAAGAATTATT3\n",
       "                   ||||||||||||||||||||||| tm 50.9 (dbd) 55.9\n",
       "                  3TACAGATTTCCACTTCTTAATAA...CATACCTACTTAACATGTTTATT5"
      ]
     },
     "execution_count": 14,
     "metadata": {},
     "output_type": "execute_result"
    }
   ],
   "source": [
    "gfp_prd.figure()"
   ]
  },
  {
   "cell_type": "code",
   "execution_count": 15,
   "metadata": {},
   "outputs": [
    {
     "data": {
      "text/plain": [
       "\n",
       "Taq (rate 30 nt/s) 35 cycles             |770bp\n",
       "95.0°C    |95.0°C                 |      |Tm formula: Biopython Tm_NN\n",
       "|_________|_____          72.0°C  |72.0°C|SaltC 50mM\n",
       "| 03min00s|30s  \\         ________|______|Primer1C 1.0µM\n",
       "|         |      \\ 51.9°C/ 0min23s| 5min |Primer2C 1.0µM\n",
       "|         |       \\_____/         |      |GC 36%\n",
       "|         |         30s           |      |4-12°C"
      ]
     },
     "execution_count": 15,
     "metadata": {},
     "output_type": "execute_result"
    }
   ],
   "source": [
    "gfp_prd.program()"
   ]
  },
  {
   "cell_type": "code",
   "execution_count": 16,
   "metadata": {},
   "outputs": [],
   "source": [
    "from pydna.assembly import Assembly\n",
    "asm = Assembly((yep_bgl, cyc1_prd, gfp_prd))"
   ]
  },
  {
   "cell_type": "code",
   "execution_count": 17,
   "metadata": {},
   "outputs": [
    {
     "data": {
      "text/plain": [
       "Assembly:\n",
       "Sequences........................: [9641] [380] [770]\n",
       "Sequences with shared homologies.: [9641] [380] [770]\n",
       "Homology limit (bp)..............: 25\n",
       "Number of overlaps...............: 3\n",
       "Nodes in graph(incl. 5' & 3')....: 5\n",
       "Only terminal overlaps...........: No\n",
       "Circular products................: [10681]\n",
       "Linear products..................: [10720] [10717] [10716] [10376] [9982] [1114] [39] [36] [35]"
      ]
     },
     "execution_count": 17,
     "metadata": {},
     "output_type": "execute_result"
    }
   ],
   "source": [
    "asm"
   ]
  },
  {
   "cell_type": "code",
   "execution_count": 18,
   "metadata": {},
   "outputs": [],
   "source": [
    "cnt = asm.assemble_circular()[0]"
   ]
  },
  {
   "cell_type": "code",
   "execution_count": 19,
   "metadata": {},
   "outputs": [
    {
     "data": {
      "text/html": [
       "<pre> -|KC562906|35\n",
       "|           \\/\n",
       "|           /\\\n",
       "|           35|380bp_PCR_prod|36\n",
       "|                             \\/\n",
       "|                             /\\\n",
       "|                             36|770bp_PCR_prod|35\n",
       "|                                               \\/\n",
       "|                                               /\\\n",
       "|                                               35-\n",
       "|                                                  |\n",
       " --------------------------------------------------</pre>"
      ],
      "text/plain": [
       "Contig(o10681)"
      ]
     },
     "execution_count": 19,
     "metadata": {},
     "output_type": "execute_result"
    }
   ],
   "source": [
    "cnt"
   ]
  },
  {
   "cell_type": "code",
   "execution_count": 23,
   "metadata": {},
   "outputs": [],
   "source": [
    "from pydna.all import *\n",
    "gb = Genbank(\"myemail@mydomain.com\")\n",
    "\n",
    "p1, p3 = parse('''\n",
    ">primer1\n",
    "GCGGATCCTCTAGAATGGTTTGTTCAGTAATTCAG\n",
    ">primer3\n",
    "AGATCTGGATCCTTAGATGAGAGTCTTTTCCAG''', ds=False)\n",
    "\n",
    "XKS1 = gb.nucleotide(\"Z72979\").rc()\n",
    "PCR_prod = pcr( p1, p3, XKS1 )\n",
    "from Bio.Restriction import BamHI, BglII\n",
    "stuffer1, insert, stuffer2 = PCR_prod.cut(BamHI)\n",
    "YEp24PGK = gb.nucleotide(\"KC562906\")\n",
    "YEp24PGK_BglII = YEp24PGK.linearize(BglII)\n",
    "YEp24PGK_XK = ( YEp24PGK_BglII + insert ).looped()\n",
    "YEp24PGK_XK = YEp24PGK_XK.synced(YEp24PGK)"
   ]
  },
  {
   "cell_type": "code",
   "execution_count": 26,
   "metadata": {},
   "outputs": [],
   "source": [
    "from pydna.all import *\n",
    "gb = Genbank(\"myemail@mydomain.com\")\n",
    "\n",
    "GUP1rec1sens, GUP1rec2AS = parse('''\n",
    ">GUP1rec1sens\n",
    "gaattcgatatcaagcttatcgataccgatgtcgctgatcagcatcctgtc\n",
    ">GUP1rec2AS\n",
    "gacataactaattacatgactcgaggtcgactcagcattttaggtaaattccg\n",
    "''', ds=False)\n",
    "\n",
    "pGREG505 = read(\"pGREG505.gb\")\n",
    "GUP1_locus = gb.nucleotide(\"Z72606\")\n",
    "insert = pcr(GUP1rec1sens, GUP1rec2AS, GUP1_locus)\n",
    "from Bio.Restriction import SalI\n",
    "lin_vect, his3_stuffer = pGREG505.cut(SalI)\n",
    "asm = Assembly( (lin_vect, insert) )\n",
    "pGUP1 = asm.assemble_circular()[0]"
   ]
  }
 ],
 "metadata": {
  "kernelspec": {
   "display_name": "Python 3",
   "language": "python",
   "name": "python3"
  },
  "language_info": {
   "codemirror_mode": {
    "name": "ipython",
    "version": 3
   },
   "file_extension": ".py",
   "mimetype": "text/x-python",
   "name": "python",
   "nbconvert_exporter": "python",
   "pygments_lexer": "ipython3",
   "version": "3.6.0"
  }
 },
 "nbformat": 4,
 "nbformat_minor": 1
}
