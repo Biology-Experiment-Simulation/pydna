{
 "cells": [
  {
   "cell_type": "code",
   "execution_count": 1,
   "metadata": {
    "collapsed": false
   },
   "outputs": [],
   "source": [
    "html=\"\"\"\n",
    "<!DOCTYPE html>\n",
    "<html>\n",
    "    <head>\n",
    "        <script src='angularplasmid.complete.min.js'></script>\n",
    "        <style>\n",
    "            #p1 {border:1px solid #ccc}\n",
    "            #t1 {fill:#f0f0f0;stroke:#ccc}\n",
    "            .sminor {stroke:#ccc}\n",
    "            .smajor {stroke:#f00}\n",
    "            .sml { fill:#999;font-size:10px }\n",
    "            .smajorin { stroke:#999 }\n",
    "            .marker { fill:#fc0;stroke:#fc0 }\n",
    "            .mlabel { fill:#c00;font-size:10px;font-weight:bold }\n",
    "        </style>\n",
    "    </head>\n",
    "    <body>\n",
    "        <plasmid id='p1' sequencelength='1000'>\n",
    "            <plasmidtrack id='t1'>\n",
    "                <trackscale class='sminor' interval='10'></trackscale>\n",
    "                <trackscale class='smajor' interval='50' showlabels='1' labelclass='sml'></trackscale>\n",
    "                <trackscale class='smajorin' interval='50' direction='in'></trackscale>\n",
    "                <trackmarker class='marker' start='50' end='250'>\n",
    "                    <markerlabel class='mlabel' text='SAMPLE' type='path'></markerlabel>\n",
    "                    <markerlabel class='mlabel' text='Inner' vadjust='-40'></markerlabel>\n",
    "                    <markerlabel class='mlabel' text='OUTER' type='path' vadjust='55'></markerlabel>\n",
    "                </trackmarker>\n",
    "            </plasmidtrack>\n",
    "        </plasmid>\n",
    "    </body>\n",
    "</html>\"\"\""
   ]
  },
  {
   "cell_type": "code",
   "execution_count": 2,
   "metadata": {
    "collapsed": true
   },
   "outputs": [],
   "source": [
    "from IPython.display import display_html"
   ]
  },
  {
   "cell_type": "code",
   "execution_count": 4,
   "metadata": {
    "collapsed": false
   },
   "outputs": [
    {
     "data": {
      "text/html": [
       "\n",
       "<!DOCTYPE html>\n",
       "<html>\n",
       "    <head>\n",
       "        <script src='angularplasmid.complete.min.js'></script>\n",
       "        <style>\n",
       "            #p1 {border:1px solid #ccc}\n",
       "            #t1 {fill:#f0f0f0;stroke:#ccc}\n",
       "            .sminor {stroke:#ccc}\n",
       "            .smajor {stroke:#f00}\n",
       "            .sml { fill:#999;font-size:10px }\n",
       "            .smajorin { stroke:#999 }\n",
       "            .marker { fill:#fc0;stroke:#fc0 }\n",
       "            .mlabel { fill:#c00;font-size:10px;font-weight:bold }\n",
       "        </style>\n",
       "    </head>\n",
       "    <body>\n",
       "        <plasmid id='p1' sequencelength='1000'>\n",
       "            <plasmidtrack id='t1'>\n",
       "                <trackscale class='sminor' interval='10'></trackscale>\n",
       "                <trackscale class='smajor' interval='50' showlabels='1' labelclass='sml'></trackscale>\n",
       "                <trackscale class='smajorin' interval='50' direction='in'></trackscale>\n",
       "                <trackmarker class='marker' start='50' end='250'>\n",
       "                    <markerlabel class='mlabel' text='SAMPLE' type='path'></markerlabel>\n",
       "                    <markerlabel class='mlabel' text='Inner' vadjust='-40'></markerlabel>\n",
       "                    <markerlabel class='mlabel' text='OUTER' type='path' vadjust='55'></markerlabel>\n",
       "                </trackmarker>\n",
       "            </plasmidtrack>\n",
       "        </plasmid>\n",
       "    </body>\n",
       "</html>"
      ]
     },
     "metadata": {},
     "output_type": "display_data"
    }
   ],
   "source": [
    "display_html(html,raw=True)"
   ]
  },
  {
   "cell_type": "code",
   "execution_count": null,
   "metadata": {
    "collapsed": true
   },
   "outputs": [],
   "source": [
    "html = \"\"\"\n",
    "<plasmid id=\"pdemo\" class=\"plasmid\" plasmidheight=\"450\" plasmidwidth=\"600\" sequence=\"{{sequence}}\">\n",
    "                        <plasmidtrack trackclass=\"track\" radius=\"{{radius}}\" width=\"25\">\n",
    "\n",
    "                            <tracklabel labelclass=\"tracklabeltitle\" text=\"pHS1\" vadjust=\"-10\"></tracklabel>\n",
    "                            <tracklabel labelclass=\"tracklabelbody\" text=\"{{api.plasmid('pdemo').sequencelength}} bp\" vadjust=\"25\"></tracklabel>\n",
    "                            <tracklabel labelclass=\"tracklabelsmall\" text=\"( Click a marker )\" vadjust=\"50\"></tracklabel>\n",
    "                            <trackscale interval=\"10\" tickclass=\"scale-minor\"></trackscale>\n",
    "                            <trackscale interval=\"50\" tickclass=\"scale-major\" showlabels=\"1\" labelclass=\"scale-majortext\"></trackscale>\n",
    "\n",
    "                            <!-- Non-Coding Regions -->\n",
    "                            <trackmarker start=\"710\" end=\"800\" markerclass=\"noncodingregion\" vadjust=\"55\" arrowendlength=\"4\" arrowendwidth=\"4\" arrowstartlength=\"4\" arrowstartwidth=\"4\" wadjust=\"-10\">\n",
    "                                <markerlabel labelclass=\"noncodinglabel\" style=\"font-weight:400;kerning:2\" text=\"710 - 800\" type=\"path\" vadjust=\"1\"></markerlabel>\n",
    "                                <markerlabel labelclass=\"noncodinglabel\" text=\"Non-Coding\" vadjust=\"35\" hadjust=\"0\"></markerlabel>\n",
    "                                <markerlabel labelclass=\"noncodinglabel\" text=\"Region\" vadjust=\"35\" hadjust=\"-3\"></markerlabel>\n",
    "                            </trackmarker>\n",
    "\n",
    "                            <!-- HindIII and Primers -->\n",
    "                            <trackmarker markerclass=\"markerhover\" start=\"{{featurePos-100}}\" end=\"{{featurePos-1}}\" style=\"fill:rgba(255,0,0,0.4)\" arrowendlength=\"4\" wadjust=\"8\" vadjust=\"-4\"  markerclick=\"markerClick($event,$marker)\">\n",
    "                                <markerlabel labelclass=\"markerlabel\" text=\"FORWARD\" type=\"path\" style=\"fill:#fff\" vadjust=\"5\"></markerlabel>\n",
    "                                <markerlabel labelclass=\"markerlabel\" text=\"Primer\" type=\"path\" style=\"fill:#fff\" vadjust=\"-5\"></markerlabel>\n",
    "                            </trackmarker>\n",
    "                            <trackmarker start=\"75\" style=\"stroke:#c00;stroke-width:2px\" wadjust=\"12\" vadjust=\"-6\">\n",
    "                                    <markerlabel labelclass=\"featurelabel\" text=\"BamHI\" type=\"path\" valign=\"outer\" hadjust=\"-2\" vadjust=\"38\"></markerlabel>\n",
    "                                    <svgelement type=\"a\" xlink:href=\"http://en.wikipedia.org/wiki/BamHI\" target=\"_blank\">\n",
    "                                        <markerlabel labelclass=\"featurelabel\" style=\"font-size:11px;font-weight:300\" text=\"Click for details...\" type=\"path\" valign=\"outer\" hadjust=\"-2\" vadjust=\"25\" showline=\"1\" linestyle=\"stroke:#666;stroke-dasharray:2,2\" linevadjust=\"-10\"></markerlabel>\n",
    "                                    </svgelement>\n",
    "                                <markerlabel labelclass=\"featurelabel\" text=\"75\" type=\"path\" valign=\"inner\" vadjust=\"-5\"></markerlabel>\n",
    "                            </trackmarker>\n",
    "                            <trackmarker start=\"{{featurePos}}\" style=\"stroke:#c00;stroke-width:2px\" wadjust=\"12\" vadjust=\"-6\">\n",
    "                                <svgelement type=\"a\" xlink:href=\"http://en.wikipedia.org/wiki/EcoRI\" target=\"_blank\"><markerlabel labelclass=\"featurelabel\" text=\"EcoRI\" type=\"path\" valign=\"outer\" hadjust=\"2\" vadjust=\"30\" showline=\"1\" linestyle=\"stroke:#666;stroke-dasharray:2,2\" linevadjust=\"-10\"></markerlabel></svgelement>\n",
    "                                <markerlabel labelclass=\"featurelabel\" text=\"{{featurePos}}\" type=\"path\" valign=\"inner\" vadjust=\"-5\"></markerlabel>\n",
    "                            </trackmarker>\n",
    "                            <trackmarker  markerclass=\"markerhover\" start=\"{{featurePos+1}}\" end=\"{{featurePos + 120}}\" style=\"fill:rgba(128,0,0,0.4)\" arrowstartlength=\"4\" wadjust=\"8\" vadjust=\"-4\"  markerclick=\"markerClick($event,$marker)\">\n",
    "                                <markerlabel labelclass=\"markerlabel\" text=\"REVERSE\" type=\"path\" style=\"fill:#fff\" vadjust=\"5\"></markerlabel>\n",
    "                                <markerlabel labelclass=\"markerlabel\" text=\"Primer\" type=\"path\" style=\"fill:#fff\" vadjust=\"-5\"></markerlabel>\n",
    "                            </trackmarker>\n",
    "\n",
    "                            <!-- Sequencing Region -->\n",
    "                            <trackmarker markerclass=\"markerhover\" start=\"{{sequenceRegion.start}}\" end=\"{{sequenceRegion.end}}\" style=\"fill:rgba(0,128,0,0.1)\" wadjust=\"30\" markerclick=\"markerClick($event,$marker)\">\n",
    "                                <markerlabel labelclass=\"regionlabel\" text=\"Sequencing Region\" type=\"path\" style=\"fill:rgba(0,128,0,.6)\" vadjust=\"40\"></markerlabel>\n",
    "                            </trackmarker>\n",
    "                            <trackmarker start=\"{{sequenceRegion.start}}\" style=\"stroke:rgba(0,64,0,0.5);stroke-dasharray:3,1;\" wadjust=\"30\">\n",
    "                                <markerlabel labelclass=\"regionlabel\" text=\"{{sequenceRegion.start}}\" type=\"path\" style=\"fill:rgba(0,128,0,.6)\" valign=\"inner\" vadjust=\"-5\"></markerlabel>\n",
    "                            </trackmarker>\n",
    "                            <trackmarker start=\"{{sequenceRegion.end}}\" style=\"stroke:rgba(0,64,0,0.5);stroke-dasharray:3,1;\" wadjust=\"30\">\n",
    "                                <markerlabel labelclick=\"labelClick($event,$label)\" labelclass=\"regionlabel\" text=\"{{sequenceRegion.end}}\" type=\"path\" style=\"fill:rgba(0,128,0,.6)\" valign=\"inner\" vadjust=\"-5\"></markerlabel>\n",
    "                            </trackmarker>\n",
    "\n",
    "                            <!-- TARGET PROTEINS -->\n",
    "                            <trackmarker start=\"{{featureStart}}\" end=\"{{featureEnd}}\" style=\"fill:rgba(0,0,128,.4)\" vadjust=\"3\" arrowendlength=\"4\" arrowendwidth=\"4\" wadjust=\"-5\">\n",
    "                                <markerlabel text=\"TARGET PROTEINS\" type=\"path\" style=\"fill:rgba(0,0,64,.7);font-size:12px;font-weight:700\" vadjust=\"45\"></markerlabel>                            \n",
    "                            </trackmarker>\n",
    "                            <trackmarker markerclass=\"markerhover\" ng-repeat=\"m in featureMarkers\" style=\"fill:rgba(0,0,128,.4)\" start=\"{{m.start}}\" end=\"{{m.end}}\" wadjust=\"8\" vadjust=\"-4\" markerclick=\"markerClick($event, $marker)\">\n",
    "                                <markerlabel labelclass=\"markerlabel\" text=\"{{m.text}}\" style=\"fill:#fff;font-weight:700\" ></markerlabel>\n",
    "                            </trackmarker>\n",
    "                            <trackmarker start=\"{{featureStart}}\" style=\"stroke:rgba(0,0,64,.7);stroke-width:2px;stroke-dasharray:4,2\" vadjust=\"-7\" wadjust=\"15\">\n",
    "                                <markerlabel text=\"{{featureStart}}\" style=\"fill:rgba(0,0,64,.7);font-size:11px;font-weight:700\" vadjust=\"-35\"></markerlabel>                            \n",
    "                            </trackmarker>\n",
    "                            <trackmarker start=\"{{featureEnd}}\" style=\"stroke:rgba(0,0,64,.7);stroke-width:2px;stroke-dasharray:4,2\" vadjust=\"-7\" wadjust=\"15\">\n",
    "                                <markerlabel text=\"{{featureEnd}}\" style=\"fill:rgba(0,0,64,.7);font-size:11px;font-weight:700\" vadjust=\"-35\"></markerlabel>                            \n",
    "                            </trackmarker>\n",
    "\n",
    "                        </plasmidtrack>\n",
    "                    </plasmid>\"\"\""
   ]
  },
  {
   "cell_type": "code",
   "execution_count": 5,
   "metadata": {
    "collapsed": false
   },
   "outputs": [
    {
     "data": {
      "text/html": [
       "\n",
       "<!DOCTYPE html>\n",
       "<html>\n",
       "    <head>\n",
       "        <script src='angularplasmid.complete.min.js'></script>\n",
       "        <style>\n",
       "            #p1 {border:1px solid #ccc}\n",
       "            #t1 {fill:#f0f0f0;stroke:#ccc}\n",
       "            .sminor {stroke:#ccc}\n",
       "            .smajor {stroke:#f00}\n",
       "            .sml { fill:#999;font-size:10px }\n",
       "            .smajorin { stroke:#999 }\n",
       "            .marker { fill:#fc0;stroke:#fc0 }\n",
       "            .mlabel { fill:#c00;font-size:10px;font-weight:bold }\n",
       "        </style>\n",
       "    </head>\n",
       "    <body>\n",
       "        <plasmid id='p1' sequencelength='1000'>\n",
       "            <plasmidtrack id='t1'>\n",
       "                <trackscale class='sminor' interval='10'></trackscale>\n",
       "                <trackscale class='smajor' interval='50' showlabels='1' labelclass='sml'></trackscale>\n",
       "                <trackscale class='smajorin' interval='50' direction='in'></trackscale>\n",
       "                <trackmarker class='marker' start='50' end='250'>\n",
       "                    <markerlabel class='mlabel' text='SAMPLE' type='path'></markerlabel>\n",
       "                    <markerlabel class='mlabel' text='Inner' vadjust='-40'></markerlabel>\n",
       "                    <markerlabel class='mlabel' text='OUTER' type='path' vadjust='55'></markerlabel>\n",
       "                </trackmarker>\n",
       "            </plasmidtrack>\n",
       "        </plasmid>\n",
       "    </body>\n",
       "</html>"
      ]
     },
     "metadata": {},
     "output_type": "display_data"
    }
   ],
   "source": [
    "display_html(html,raw=True)"
   ]
  },
  {
   "cell_type": "code",
   "execution_count": null,
   "metadata": {
    "collapsed": true
   },
   "outputs": [],
   "source": []
  }
 ],
 "metadata": {
  "anaconda-cloud": {},
  "kernelspec": {
   "display_name": "Python 3",
   "language": "python",
   "name": "python3"
  },
  "language_info": {
   "codemirror_mode": {
    "name": "ipython",
    "version": 3
   },
   "file_extension": ".py",
   "mimetype": "text/x-python",
   "name": "python",
   "nbconvert_exporter": "python",
   "pygments_lexer": "ipython3",
   "version": "3.5.2"
  }
 },
 "nbformat": 4,
 "nbformat_minor": 0
}
