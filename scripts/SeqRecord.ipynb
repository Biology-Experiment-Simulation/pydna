{
 "cells": [
  {
   "cell_type": "code",
   "execution_count": 1,
   "metadata": {
    "collapsed": true
   },
   "outputs": [],
   "source": [
    "from Bio.SeqRecord import SeqRecord\n",
    "from Bio.Seq import Seq\n",
    "from Bio.Alphabet.IUPAC import IUPACAmbiguousDNA"
   ]
  },
  {
   "cell_type": "code",
   "execution_count": 2,
   "metadata": {
    "collapsed": true
   },
   "outputs": [],
   "source": [
    "x=SeqRecord(Seq(\"AAA\", IUPACAmbiguousDNA()))\n",
    "#x.id=\"\"\n",
    "#x.name=\"1234567890123456\""
   ]
  },
  {
   "cell_type": "code",
   "execution_count": 3,
   "metadata": {},
   "outputs": [
    {
     "name": "stdout",
     "output_type": "stream",
     "text": [
      "<unknown id>\tAAA\n",
      "\n"
     ]
    }
   ],
   "source": [
    "print(x.format(\"tab\"))"
   ]
  },
  {
   "cell_type": "code",
   "execution_count": 4,
   "metadata": {},
   "outputs": [
    {
     "name": "stdout",
     "output_type": "stream",
     "text": [
      "LOCUS       .                          3 bp    DNA              UNK 01-JAN-1980\n",
      "DEFINITION  .\n",
      "ACCESSION   <unknown id>\n",
      "VERSION     <unknown id>\n",
      "KEYWORDS    .\n",
      "SOURCE      .\n",
      "  ORGANISM  .\n",
      "            .\n",
      "FEATURES             Location/Qualifiers\n",
      "ORIGIN\n",
      "        1 aaa\n",
      "//\n",
      "\n"
     ]
    }
   ],
   "source": [
    "print(x.format(\"gb\"))"
   ]
  },
  {
   "cell_type": "code",
   "execution_count": 5,
   "metadata": {
    "collapsed": true
   },
   "outputs": [],
   "source": [
    "x.name= \"name\""
   ]
  },
  {
   "cell_type": "code",
   "execution_count": 6,
   "metadata": {},
   "outputs": [
    {
     "name": "stdout",
     "output_type": "stream",
     "text": [
      "LOCUS       name                       3 bp    DNA              UNK 01-JAN-1980\n",
      "DEFINITION  .\n",
      "ACCESSION   <unknown id>\n",
      "VERSION     <unknown id>\n",
      "KEYWORDS    .\n",
      "SOURCE      .\n",
      "  ORGANISM  .\n",
      "            .\n",
      "FEATURES             Location/Qualifiers\n",
      "ORIGIN\n",
      "        1 aaa\n",
      "//\n",
      "\n"
     ]
    }
   ],
   "source": [
    "print( x.format(\"gb\") )"
   ]
  },
  {
   "cell_type": "code",
   "execution_count": 7,
   "metadata": {},
   "outputs": [
    {
     "name": "stdout",
     "output_type": "stream",
     "text": [
      "<unknown id>\tAAA\n",
      "\n"
     ]
    }
   ],
   "source": [
    "print(x.format(\"tab\"))"
   ]
  },
  {
   "cell_type": "code",
   "execution_count": 8,
   "metadata": {},
   "outputs": [],
   "source": [
    "x.id = \"id\""
   ]
  },
  {
   "cell_type": "code",
   "execution_count": 9,
   "metadata": {},
   "outputs": [
    {
     "name": "stdout",
     "output_type": "stream",
     "text": [
      "LOCUS       name                       3 bp    DNA              UNK 01-JAN-1980\n",
      "DEFINITION  .\n",
      "ACCESSION   id\n",
      "VERSION     id\n",
      "KEYWORDS    .\n",
      "SOURCE      .\n",
      "  ORGANISM  .\n",
      "            .\n",
      "FEATURES             Location/Qualifiers\n",
      "ORIGIN\n",
      "        1 aaa\n",
      "//\n",
      "\n"
     ]
    }
   ],
   "source": [
    "print( x.format(\"gb\") )"
   ]
  },
  {
   "cell_type": "code",
   "execution_count": 10,
   "metadata": {},
   "outputs": [],
   "source": [
    "x.description = \"description\""
   ]
  },
  {
   "cell_type": "code",
   "execution_count": 11,
   "metadata": {},
   "outputs": [
    {
     "name": "stdout",
     "output_type": "stream",
     "text": [
      "LOCUS       name                       3 bp    DNA              UNK 01-JAN-1980\n",
      "DEFINITION  description\n",
      "ACCESSION   id\n",
      "VERSION     id\n",
      "KEYWORDS    .\n",
      "SOURCE      .\n",
      "  ORGANISM  .\n",
      "            .\n",
      "FEATURES             Location/Qualifiers\n",
      "ORIGIN\n",
      "        1 aaa\n",
      "//\n",
      "\n"
     ]
    }
   ],
   "source": [
    "print( x.format(\"gb\") )"
   ]
  },
  {
   "cell_type": "code",
   "execution_count": 13,
   "metadata": {},
   "outputs": [
    {
     "name": "stdout",
     "output_type": "stream",
     "text": [
      "ID: id\n",
      "Name: name\n",
      "Description: description\n",
      "Number of features: 0\n",
      "Seq('AAA', IUPACAmbiguousDNA())\n"
     ]
    }
   ],
   "source": [
    "print(x)"
   ]
  },
  {
   "cell_type": "code",
   "execution_count": 15,
   "metadata": {},
   "outputs": [
    {
     "name": "stdout",
     "output_type": "stream",
     "text": [
      "LOCUS       name                       3 bp    DNA              UNK 01-JAN-1980\n",
      "DEFINITION  description\n",
      "ACCESSION   id\n",
      "VERSION     id\n",
      "KEYWORDS    .\n",
      "SOURCE      .\n",
      "  ORGANISM  .\n",
      "            .\n",
      "FEATURES             Location/Qualifiers\n",
      "ORIGIN\n",
      "        1 aaa\n",
      "//\n",
      "\n"
     ]
    }
   ],
   "source": [
    "print( x.format(\"gb\") )"
   ]
  },
  {
   "cell_type": "code",
   "execution_count": 16,
   "metadata": {
    "collapsed": true
   },
   "outputs": [],
   "source": [
    "x=SeqRecord(Seq(\"AAA\", IUPACAmbiguousDNA()))"
   ]
  },
  {
   "cell_type": "code",
   "execution_count": 17,
   "metadata": {
    "collapsed": true
   },
   "outputs": [],
   "source": [
    "x.id = \"id\""
   ]
  },
  {
   "cell_type": "code",
   "execution_count": 19,
   "metadata": {},
   "outputs": [
    {
     "name": "stdout",
     "output_type": "stream",
     "text": [
      "LOCUS       id                         3 bp    DNA              UNK 01-JAN-1980\n",
      "DEFINITION  .\n",
      "ACCESSION   id\n",
      "VERSION     id\n",
      "KEYWORDS    .\n",
      "SOURCE      .\n",
      "  ORGANISM  .\n",
      "            .\n",
      "FEATURES             Location/Qualifiers\n",
      "ORIGIN\n",
      "        1 aaa\n",
      "//\n",
      "\n"
     ]
    }
   ],
   "source": [
    "print( x.format(\"gb\") )"
   ]
  },
  {
   "cell_type": "code",
   "execution_count": 20,
   "metadata": {
    "collapsed": true
   },
   "outputs": [],
   "source": [
    "x.name = \"name\""
   ]
  },
  {
   "cell_type": "code",
   "execution_count": 21,
   "metadata": {},
   "outputs": [
    {
     "name": "stdout",
     "output_type": "stream",
     "text": [
      "LOCUS       name                       3 bp    DNA              UNK 01-JAN-1980\n",
      "DEFINITION  .\n",
      "ACCESSION   id\n",
      "VERSION     id\n",
      "KEYWORDS    .\n",
      "SOURCE      .\n",
      "  ORGANISM  .\n",
      "            .\n",
      "FEATURES             Location/Qualifiers\n",
      "ORIGIN\n",
      "        1 aaa\n",
      "//\n",
      "\n"
     ]
    }
   ],
   "source": [
    "print( x.format(\"gb\") )"
   ]
  },
  {
   "cell_type": "code",
   "execution_count": 22,
   "metadata": {
    "collapsed": true
   },
   "outputs": [],
   "source": [
    "x.id = \"id\""
   ]
  },
  {
   "cell_type": "code",
   "execution_count": 24,
   "metadata": {},
   "outputs": [
    {
     "name": "stdout",
     "output_type": "stream",
     "text": [
      "LOCUS       name                       3 bp    DNA              UNK 01-JAN-1980\n",
      "DEFINITION  .\n",
      "ACCESSION   id\n",
      "VERSION     id\n",
      "KEYWORDS    .\n",
      "SOURCE      .\n",
      "  ORGANISM  .\n",
      "            .\n",
      "FEATURES             Location/Qualifiers\n",
      "ORIGIN\n",
      "        1 aaa\n",
      "//\n",
      "\n"
     ]
    }
   ],
   "source": [
    "print( x.format(\"gb\") )"
   ]
  },
  {
   "cell_type": "code",
   "execution_count": 25,
   "metadata": {},
   "outputs": [],
   "source": [
    "from Bio import Entrez\n",
    "Entrez.email = \"bjornjobb@gmail.com\"\n",
    "record = Entrez.efetch(\"nucleotide\", id=\"Z78439\", rettype   = \"gb\", retmode = \"gb\").read()\n",
    "record2 = Entrez.efetch(\"nucleotide\", id=\"Z78439\", rettype   = \"gb\", retmode = \"gb\").read()"
   ]
  },
  {
   "cell_type": "code",
   "execution_count": 26,
   "metadata": {},
   "outputs": [
    {
     "name": "stdout",
     "output_type": "stream",
     "text": [
      "LOCUS       Z78439                   592 bp    DNA     linear   PLN 30-NOV-2006\n",
      "DEFINITION  P.barbatum 5.8S rRNA gene and ITS1 and ITS2 DNA.\n",
      "ACCESSION   Z78439\n",
      "VERSION     Z78439.1\n",
      "KEYWORDS    5.8S ribosomal RNA; 5.8S rRNA gene; internal transcribed spacer;\n",
      "            ITS1; ITS2.\n",
      "SOURCE      Paphiopedilum barbatum\n",
      "  ORGANISM  Paphiopedilum barbatum\n",
      "            Eukaryota; Viridiplantae; Streptophyta; Embryophyta; Tracheophyta;\n",
      "            Spermatophyta; Magnoliophyta; Liliopsida; Asparagales; Orchidaceae;\n",
      "            Cypripedioideae; Paphiopedilum.\n",
      "REFERENCE   1\n",
      "  AUTHORS   Cox,A.V., Pridgeon,A.M., Albert,V.A. and Chase,M.W.\n",
      "  TITLE     Phylogenetics of the slipper orchids (Cypripedioideae:\n",
      "            Orchidaceae): nuclear rDNA ITS sequences\n",
      "  JOURNAL   Unpublished\n",
      "REFERENCE   2  (bases 1 to 592)\n",
      "  AUTHORS   Cox,A.V.\n",
      "  TITLE     Direct Submission\n",
      "  JOURNAL   Submitted (19-AUG-1996) Cox A.V., Royal Botanic Gardens, Kew,\n",
      "            Richmond, Surrey TW9 3AB, UK\n",
      "FEATURES             Location/Qualifiers\n",
      "     source          1..592\n",
      "                     /organism=\"Paphiopedilum barbatum\"\n",
      "                     /mol_type=\"genomic DNA\"\n",
      "                     /db_xref=\"taxon:53070\"\n",
      "     misc_feature    1..380\n",
      "                     /note=\"internal transcribed spacer 1\"\n",
      "     gene            381..550\n",
      "                     /gene=\"5.8S rRNA\"\n",
      "     rRNA            381..550\n",
      "                     /gene=\"5.8S rRNA\"\n",
      "                     /product=\"5.8S ribosomal RNA\"\n",
      "     misc_feature    551..592\n",
      "                     /note=\"internal transcribed spacer 2\"\n",
      "ORIGIN      \n",
      "        1 cattgttgag atcacataat aattgatcga gttaatctgg aggatctgtt tactttggtc\n",
      "       61 acccatgggc atttgctgtt gaagtgacct agatttgcca tcgagcctcc ttgggagctt\n",
      "      121 tcttgttggc gagatctaaa cccctgcccg gcggagttgg gcgccaagtc atatgacaca\n",
      "      181 taattggtga agggggtggt aatcctgccc tgaccctccc caaattattt ttttaacaac\n",
      "      241 tctcagcaac ggatatctcg gctcttgcat cgatgaagaa cgcagcgaaa tgcgataatg\n",
      "      301 gtgtgaattg cagaatcccg tgaacatcga gtctttgaac gcaagttgcg cccgaggcca\n",
      "      361 tcaggccaag ggcacgcctg cctgggcatt gcgagtcata tctctccctt aatgaggctg\n",
      "      421 tccatacata ctgttcagcc ggtgcggatg tgagtttggc cccttgttct ttggtacggg\n",
      "      481 gggtctaaga gctgcatggg ctttggatgg tcctaaatac ggaaagaggt ggacgaacta\n",
      "      541 tgctacaaca aaattgttgt gcaaatgccc cggttggccg tttagttggg cc\n",
      "//\n",
      "\n",
      "\n"
     ]
    }
   ],
   "source": [
    "print( record )"
   ]
  },
  {
   "cell_type": "code",
   "execution_count": 29,
   "metadata": {},
   "outputs": [],
   "source": [
    "import io\n",
    "\n",
    "f = io.StringIO(record)\n",
    "\n",
    "from Bio import SeqIO\n",
    "r = SeqIO.read(f, \"genbank\")\n",
    "\n",
    "\n",
    "f = io.StringIO(record)\n",
    "\n",
    "from Bio import SeqIO\n",
    "r2 = SeqIO.read(f, \"genbank\")"
   ]
  },
  {
   "cell_type": "code",
   "execution_count": 30,
   "metadata": {},
   "outputs": [
    {
     "data": {
      "text/plain": [
       "False"
      ]
     },
     "execution_count": 30,
     "metadata": {},
     "output_type": "execute_result"
    }
   ],
   "source": [
    "vars(r)==vars(r2)"
   ]
  },
  {
   "cell_type": "code",
   "execution_count": 31,
   "metadata": {},
   "outputs": [
    {
     "data": {
      "text/plain": [
       "'Z78439'"
      ]
     },
     "execution_count": 31,
     "metadata": {},
     "output_type": "execute_result"
    }
   ],
   "source": [
    "r.name"
   ]
  },
  {
   "cell_type": "code",
   "execution_count": 32,
   "metadata": {},
   "outputs": [
    {
     "data": {
      "text/plain": [
       "'P.barbatum 5.8S rRNA gene and ITS1 and ITS2 DNA.'"
      ]
     },
     "execution_count": 32,
     "metadata": {},
     "output_type": "execute_result"
    }
   ],
   "source": [
    "r.description"
   ]
  },
  {
   "cell_type": "code",
   "execution_count": 33,
   "metadata": {},
   "outputs": [
    {
     "data": {
      "text/plain": [
       "'Z78439.1'"
      ]
     },
     "execution_count": 33,
     "metadata": {},
     "output_type": "execute_result"
    }
   ],
   "source": [
    "r.id"
   ]
  },
  {
   "cell_type": "code",
   "execution_count": 34,
   "metadata": {
    "collapsed": true
   },
   "outputs": [],
   "source": [
    "r.id = \"qwerty.1\""
   ]
  },
  {
   "cell_type": "code",
   "execution_count": 41,
   "metadata": {},
   "outputs": [
    {
     "name": "stdout",
     "output_type": "stream",
     "text": [
      "LOCUS       Z78439                   592 bp    DNA     linear   PLN 30-NOV-2006\n",
      "DEFINITION  P.barbatum 5.8S rRNA gene and ITS1 and ITS2 DNA.\n",
      "ACCESSION   qwerty\n",
      "VERSION     qwerty.1\n",
      "KEYWORDS    5.8S ribosomal RNA; 5.8S rRNA gene; internal transcribed spacer;\n",
      "            ITS1; ITS2.\n",
      "SOURCE      Paphiopedilum barbatum\n",
      "  ORGANISM  Paphiopedilum barbatum\n",
      "            Eukaryota; Viridiplantae; Streptophyta; Embryophyta; Tracheophyta;\n",
      "            Spermatophyta; Magnoliophyta; Liliopsida; Asparagales; Orchidaceae;\n",
      "            Cypripedioideae; Paphiopedilum.\n",
      "REFERENCE   1\n",
      "  AUTHORS   Cox,A.V., Pridgeon,A.M., Albert,V.A. and Chase,M.W.\n",
      "  TITLE     Phylogenetics of the slipper orchids (Cypripedioideae: Orchidaceae):\n",
      "            nuclear rDNA ITS sequences\n",
      "  JOURNAL   Unpublished\n",
      "REFERENCE   2  (bases 1 to 592)\n",
      "  AUTHORS   Cox,A.V.\n",
      "  TITLE     Direct Submission\n",
      "  JOURNAL   Submitted (19-AUG-1996) Cox A.V., Royal Botanic Gardens, Kew,\n",
      "            Richmond, Surrey TW9 3AB, UK\n",
      "FEATURES             Location/Qualifiers\n",
      "     source          1..592\n",
      "                     /db_xref=\"taxon:53070\"\n",
      "                     /mol_type=\"genomic DNA\"\n",
      "                     /organism=\"Paphiopedilum barbatum\"\n",
      "     misc_feature    1..380\n",
      "                     /note=\"internal transcribed spacer 1\"\n",
      "     gene            381..550\n",
      "                     /gene=\"5.8S rRNA\"\n",
      "     rRNA            381..550\n",
      "                     /gene=\"5.8S rRNA\"\n",
      "                     /product=\"5.8S ribosomal RNA\"\n",
      "     misc_feature    551..592\n",
      "                     /note=\"internal transcribed spacer 2\"\n",
      "ORIGIN\n",
      "        1 cattgttgag atcacataat aattgatcga gttaatctgg aggatctgtt tactttggtc\n",
      "       61 acccatgggc atttgctgtt gaagtgacct agatttgcca tcgagcctcc ttgggagctt\n",
      "      121 tcttgttggc gagatctaaa cccctgcccg gcggagttgg gcgccaagtc atatgacaca\n",
      "      181 taattggtga agggggtggt aatcctgccc tgaccctccc caaattattt ttttaacaac\n",
      "      241 tctcagcaac ggatatctcg gctcttgcat cgatgaagaa cgcagcgaaa tgcgataatg\n",
      "      301 gtgtgaattg cagaatcccg tgaacatcga gtctttgaac gcaagttgcg cccgaggcca\n",
      "      361 tcaggccaag ggcacgcctg cctgggcatt gcgagtcata tctctccctt aatgaggctg\n",
      "      421 tccatacata ctgttcagcc ggtgcggatg tgagtttggc cccttgttct ttggtacggg\n",
      "      481 gggtctaaga gctgcatggg ctttggatgg tcctaaatac ggaaagaggt ggacgaacta\n",
      "      541 tgctacaaca aaattgttgt gcaaatgccc cggttggccg tttagttggg cc\n",
      "//\n",
      "\n"
     ]
    }
   ],
   "source": [
    "print( r.format(\"gb\") )"
   ]
  },
  {
   "cell_type": "code",
   "execution_count": 37,
   "metadata": {},
   "outputs": [
    {
     "data": {
      "text/plain": [
       "SeqRecord(seq=Seq('CATTGTTGAGATCACATAATAATTGATCGAGTTAATCTGGAGGATCTGTTTACT...GCC', IUPACAmbiguousDNA()), id='Z78439.1', name='Z78439', description='P.barbatum 5.8S rRNA gene and ITS1 and ITS2 DNA.', dbxrefs=[])"
      ]
     },
     "execution_count": 37,
     "metadata": {},
     "output_type": "execute_result"
    }
   ],
   "source": [
    "r2"
   ]
  },
  {
   "cell_type": "code",
   "execution_count": 38,
   "metadata": {},
   "outputs": [
    {
     "data": {
      "text/plain": [
       "dict_values(['Z78439', 'P.barbatum 5.8S rRNA gene and ITS1 and ITS2 DNA.', [SeqFeature(FeatureLocation(ExactPosition(0), ExactPosition(592), strand=1), type='source'), SeqFeature(FeatureLocation(ExactPosition(0), ExactPosition(380), strand=1), type='misc_feature'), SeqFeature(FeatureLocation(ExactPosition(380), ExactPosition(550), strand=1), type='gene'), SeqFeature(FeatureLocation(ExactPosition(380), ExactPosition(550), strand=1), type='rRNA'), SeqFeature(FeatureLocation(ExactPosition(550), ExactPosition(592), strand=1), type='misc_feature')], {}, Seq('CATTGTTGAGATCACATAATAATTGATCGAGTTAATCTGGAGGATCTGTTTACT...GCC', IUPACAmbiguousDNA()), [], 'qwerty.1', {'organism': 'Paphiopedilum barbatum', 'sequence_version': 1, 'data_file_division': 'PLN', 'source': 'Paphiopedilum barbatum', 'keywords': ['5.8S ribosomal RNA', '5.8S rRNA gene', 'internal transcribed spacer', 'ITS1', 'ITS2'], 'taxonomy': ['Eukaryota', 'Viridiplantae', 'Streptophyta', 'Embryophyta', 'Tracheophyta', 'Spermatophyta', 'Magnoliophyta', 'Liliopsida', 'Asparagales', 'Orchidaceae', 'Cypripedioideae', 'Paphiopedilum'], 'references': [Reference(title='Phylogenetics of the slipper orchids (Cypripedioideae: Orchidaceae): nuclear rDNA ITS sequences', ...), Reference(title='Direct Submission', ...)], 'date': '30-NOV-2006', 'accessions': ['Z78439'], 'topology': 'linear'}])"
      ]
     },
     "execution_count": 38,
     "metadata": {},
     "output_type": "execute_result"
    }
   ],
   "source": [
    "r.__dict__.values()"
   ]
  },
  {
   "cell_type": "code",
   "execution_count": 39,
   "metadata": {},
   "outputs": [
    {
     "data": {
      "text/plain": [
       "dict_values(['Z78439', 'P.barbatum 5.8S rRNA gene and ITS1 and ITS2 DNA.', [SeqFeature(FeatureLocation(ExactPosition(0), ExactPosition(592), strand=1), type='source'), SeqFeature(FeatureLocation(ExactPosition(0), ExactPosition(380), strand=1), type='misc_feature'), SeqFeature(FeatureLocation(ExactPosition(380), ExactPosition(550), strand=1), type='gene'), SeqFeature(FeatureLocation(ExactPosition(380), ExactPosition(550), strand=1), type='rRNA'), SeqFeature(FeatureLocation(ExactPosition(550), ExactPosition(592), strand=1), type='misc_feature')], {}, Seq('CATTGTTGAGATCACATAATAATTGATCGAGTTAATCTGGAGGATCTGTTTACT...GCC', IUPACAmbiguousDNA()), [], 'Z78439.1', {'organism': 'Paphiopedilum barbatum', 'sequence_version': 1, 'data_file_division': 'PLN', 'source': 'Paphiopedilum barbatum', 'keywords': ['5.8S ribosomal RNA', '5.8S rRNA gene', 'internal transcribed spacer', 'ITS1', 'ITS2'], 'taxonomy': ['Eukaryota', 'Viridiplantae', 'Streptophyta', 'Embryophyta', 'Tracheophyta', 'Spermatophyta', 'Magnoliophyta', 'Liliopsida', 'Asparagales', 'Orchidaceae', 'Cypripedioideae', 'Paphiopedilum'], 'references': [Reference(title='Phylogenetics of the slipper orchids (Cypripedioideae: Orchidaceae): nuclear rDNA ITS sequences', ...), Reference(title='Direct Submission', ...)], 'date': '30-NOV-2006', 'accessions': ['Z78439'], 'topology': 'linear'}])"
      ]
     },
     "execution_count": 39,
     "metadata": {},
     "output_type": "execute_result"
    }
   ],
   "source": [
    "r2.__dict__.values()"
   ]
  },
  {
   "cell_type": "code",
   "execution_count": 40,
   "metadata": {},
   "outputs": [
    {
     "data": {
      "text/plain": [
       "False"
      ]
     },
     "execution_count": 40,
     "metadata": {},
     "output_type": "execute_result"
    }
   ],
   "source": [
    "str(r2.__dict__.values())==str(r.__dict__.values())"
   ]
  }
 ],
 "metadata": {
  "kernelspec": {
   "display_name": "Python 3",
   "language": "python",
   "name": "python3"
  },
  "language_info": {
   "codemirror_mode": {
    "name": "ipython",
    "version": 3
   },
   "file_extension": ".py",
   "mimetype": "text/x-python",
   "name": "python",
   "nbconvert_exporter": "python",
   "pygments_lexer": "ipython3",
   "version": "3.6.3"
  }
 },
 "nbformat": 4,
 "nbformat_minor": 2
}
