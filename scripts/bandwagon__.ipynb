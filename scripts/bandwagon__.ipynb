{
 "cells": [
  {
   "cell_type": "code",
   "execution_count": 1,
   "metadata": {
    "collapsed": false
   },
   "outputs": [
    {
     "name": "stderr",
     "output_type": "stream",
     "text": [
      "/home/bjorn/anaconda3/envs/bjorn37/lib/python3.7/site-packages/mpl_toolkits/axes_grid/__init__.py:12: MatplotlibDeprecationWarning: \n",
      "The mpl_toolkits.axes_grid module was deprecated in Matplotlib 2.1 and will be removed two minor releases later. Use mpl_toolkits.axes_grid1 and mpl_toolkits.axisartist, which provide the same functionality instead.\n",
      "  obj_type='module')\n"
     ]
    }
   ],
   "source": [
    "from bandwagon import BandsPattern, BandsPatternsSet, LADDER_100_to_4k\n",
    "\n",
    "ladder = LADDER_100_to_4k.modified(label=\"Ladder\", background_color=\"#ffffaf\")\n",
    "\n",
    "patterns = [\n",
    "    BandsPattern([100, 500, 3500], ladder, label=\"C1\"),\n",
    "    BandsPattern([300, 400, 1500], ladder, label=\"C2\"),\n",
    "    BandsPattern([100, 1200, 1400, 3000], ladder, label=\"C3\"),\n",
    "    BandsPattern([100, 700], ladder, label=\"C4\"),\n",
    "]\n",
    "patterns_set = BandsPatternsSet(patterns=[ladder] + patterns, ladder=ladder,\n",
    "                                label=\"Test pattern\", ladder_ticks=3)\n",
    "ax = patterns_set.plot()\n",
    "ax.figure.savefig(\"simple_band_patterns.png\", bbox_inches=\"tight\", dpi=200)"
   ]
  },
  {
   "cell_type": "code",
   "execution_count": null,
   "metadata": {},
   "outputs": [],
   "source": []
  }
 ],
 "metadata": {
  "anaconda-cloud": {},
  "kernelspec": {
   "display_name": "Python [conda env:bjorn37]",
   "language": "python",
   "name": "conda-env-bjorn37-py"
  },
  "language_info": {
   "codemirror_mode": {
    "name": "ipython",
    "version": 3
   },
   "file_extension": ".py",
   "mimetype": "text/x-python",
   "name": "python",
   "nbconvert_exporter": "python",
   "pygments_lexer": "ipython3",
   "version": "3.7.2"
  }
 },
 "nbformat": 4,
 "nbformat_minor": 2
}
