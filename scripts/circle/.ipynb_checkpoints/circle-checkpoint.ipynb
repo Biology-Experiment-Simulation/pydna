{
 "cells": [
  {
   "cell_type": "markdown",
   "metadata": {},
   "source": [
    "MyCircle example from [ipython-in-depth](https://github.com/ipython/ipython-in-depth)\n"
   ]
  },
  {
   "cell_type": "code",
   "execution_count": 1,
   "metadata": {
    "collapsed": true
   },
   "outputs": [],
   "source": [
    "class MyCircle(object):\n",
    "\n",
    "    def __init__(self, center=(0.0,0.0), radius=1.0, color='blue'):\n",
    "        self.center = center\n",
    "        self.radius = radius\n",
    "        self.color = color\n",
    "\n",
    "    def _repr_html_(self):\n",
    "        return \"&#x25CB; (<b>html</b>)\"\n",
    "\n",
    "    def _repr_svg_(self):\n",
    "        return \"\"\"<svg width=\"100px\" height=\"100px\">\n",
    "           <circle cx=\"50\" cy=\"50\" r=\"20\" stroke=\"black\" stroke-width=\"1\" fill=\"blue\"/>\n",
    "        </svg>\"\"\"\n",
    "    \n",
    "    def _repr_latex_(self):\n",
    "        return r\"$\\bigcirc \\LaTeX$\"\n",
    "\n",
    "    def _repr_javascript_(self):\n",
    "        return \"alert('I am a circle!');\""
   ]
  },
  {
   "cell_type": "code",
   "execution_count": 2,
   "metadata": {
    "collapsed": false
   },
   "outputs": [
    {
     "data": {
      "application/javascript": [
       "alert('I am a circle!');"
      ],
      "image/svg+xml": [
       "<svg width=\"100px\" height=\"100px\">\n",
       "           <circle cx=\"50\" cy=\"50\" r=\"20\" stroke=\"black\" stroke-width=\"1\" fill=\"blue\"/>\n",
       "        </svg>"
      ],
      "text/html": [
       "&#x25CB; (<b>html</b>)"
      ],
      "text/latex": [
       "$\\bigcirc \\LaTeX$"
      ],
      "text/plain": [
       "<__main__.MyCircle at 0x7f13145426d8>"
      ]
     },
     "execution_count": 2,
     "metadata": {},
     "output_type": "execute_result"
    }
   ],
   "source": [
    "mc=MyCircle(30)\n",
    "mc"
   ]
  },
  {
   "cell_type": "markdown",
   "metadata": {},
   "source": [
    "The javascript representation (which is the default in jupyter) \n",
    "opens a pop-up like this one:\n",
    "![](old_js_repr.png)\n",
    "I would like it to show a javascript figure of a circle instead.\n",
    "\n",
    "A circle can be made like this, but defining html and javascript and using two consecutive display functions."
   ]
  },
  {
   "cell_type": "code",
   "execution_count": 3,
   "metadata": {
    "collapsed": true
   },
   "outputs": [],
   "source": [
    "from IPython.display import display_html, display_javascript"
   ]
  },
  {
   "cell_type": "code",
   "execution_count": 4,
   "metadata": {
    "collapsed": false
   },
   "outputs": [
    {
     "data": {
      "text/html": [
       "<html>\n",
       "        <head></head>\n",
       "        <body>\n",
       "            <canvas id='circle'/>\n",
       "        </body>\n",
       "     </html>"
      ]
     },
     "metadata": {},
     "output_type": "display_data"
    },
    {
     "data": {
      "application/javascript": [
       "var c = document.getElementById(\"circle\");\n",
       "var ctx = c.getContext(\"2d\");\n",
       "ctx.beginPath();\n",
       "ctx.arc(100, 75, 20, 0, 2 * Math.PI);\n",
       "ctx.stroke();"
      ]
     },
     "metadata": {},
     "output_type": "display_data"
    }
   ],
   "source": [
    "t='''<html>\n",
    "        <head></head>\n",
    "        <body>\n",
    "            <canvas id='circle'/>\n",
    "        </body>\n",
    "     </html>'''\n",
    "\n",
    "js='''var c = document.getElementById(\"circle\");\n",
    "var ctx = c.getContext(\"2d\");\n",
    "ctx.beginPath();\n",
    "ctx.arc(100, 75, 20, 0, 2 * Math.PI);\n",
    "ctx.stroke();'''\n",
    "display_html(t, raw=True)\n",
    "display_javascript(js, raw=True)"
   ]
  },
  {
   "cell_type": "markdown",
   "metadata": {},
   "source": [
    "I crudely modified the class to return a circle also for javascript "
   ]
  },
  {
   "cell_type": "code",
   "execution_count": 5,
   "metadata": {
    "collapsed": true
   },
   "outputs": [],
   "source": [
    "class MyCircle(object):\n",
    "\n",
    "    def __init__(self, center=(0.0,0.0), radius=1.0, color='blue'):\n",
    "        self.center = center\n",
    "        self.radius = radius\n",
    "        self.color = color\n",
    "\n",
    "    def _repr_html_(self):\n",
    "        return \"&#x25CB; (<b>html</b>)\"\n",
    "\n",
    "    def _repr_svg_(self):\n",
    "        return \"\"\"<svg width=\"100px\" height=\"100px\">\n",
    "           <circle cx=\"50\" cy=\"50\" r=\"20\" stroke=\"black\" stroke-width=\"1\" fill=\"blue\"/>\n",
    "        </svg>\"\"\"\n",
    "    \n",
    "    def _repr_latex_(self):\n",
    "        return r\"$\\bigcirc \\LaTeX$\"\n",
    "\n",
    "    def _repr_javascript_(self):\n",
    "        from IPython.display import display_html\n",
    "        html='''<html>\n",
    "                  <head></head>\n",
    "                  <body>\n",
    "                    <canvas id='mycircle'/>\n",
    "                  </body>\n",
    "               </html>'''\n",
    "        display_html(html, raw=True)\n",
    "        \n",
    "        js='''var c = document.getElementById(\"mycircle\");\n",
    "        var ctx = c.getContext(\"2d\");\n",
    "        ctx.beginPath();\n",
    "        ctx.arc(100, 75, {}, 0, 2 * Math.PI);\n",
    "        ctx.stroke();'''.format(self.radius)\n",
    "\n",
    "        return js"
   ]
  },
  {
   "cell_type": "code",
   "execution_count": 10,
   "metadata": {
    "collapsed": false
   },
   "outputs": [
    {
     "data": {
      "image/svg+xml": [
       "<svg width=\"100px\" height=\"100px\">\n",
       "           <circle cx=\"50\" cy=\"50\" r=\"20\" stroke=\"black\" stroke-width=\"1\" fill=\"blue\"/>\n",
       "        </svg>"
      ]
     },
     "metadata": {},
     "output_type": "display_data"
    }
   ],
   "source": [
    "from IPython.display import display_svg\n",
    "display_svg(mc._repr_svg_(), raw=True)"
   ]
  },
  {
   "cell_type": "code",
   "execution_count": 6,
   "metadata": {
    "collapsed": false
   },
   "outputs": [
    {
     "data": {
      "text/html": [
       "<html>\n",
       "                  <head></head>\n",
       "                  <body>\n",
       "                    <canvas id='mycircle'/>\n",
       "                  </body>\n",
       "               </html>"
      ]
     },
     "metadata": {},
     "output_type": "display_data"
    },
    {
     "data": {
      "application/javascript": [
       "var c = document.getElementById(\"mycircle\");\n",
       "        var ctx = c.getContext(\"2d\");\n",
       "        ctx.beginPath();\n",
       "        ctx.arc(100, 75, 50, 0, 2 * Math.PI);\n",
       "        ctx.stroke();"
      ],
      "image/svg+xml": [
       "<svg width=\"100px\" height=\"100px\">\n",
       "           <circle cx=\"50\" cy=\"50\" r=\"20\" stroke=\"black\" stroke-width=\"1\" fill=\"blue\"/>\n",
       "        </svg>"
      ],
      "text/html": [
       "&#x25CB; (<b>html</b>)"
      ],
      "text/latex": [
       "$\\bigcirc \\LaTeX$"
      ],
      "text/plain": [
       "<__main__.MyCircle at 0x7f1314554128>"
      ]
     },
     "execution_count": 6,
     "metadata": {},
     "output_type": "execute_result"
    }
   ],
   "source": [
    "mc=MyCircle(radius=50)\n",
    "mc"
   ]
  },
  {
   "cell_type": "markdown",
   "metadata": {},
   "source": [
    "Inspiration for the modified code came from [http://www.w3schools.com/](http://www.w3schools.com/tags/canvas_arc.asp) for the circle drawing javascript and from the Github repo [Who8MyLunch/ipynb_widget_canvas](https://github.com/Who8MyLunch/ipynb_widget_canvas) for how to get the javascript to display."
   ]
  },
  {
   "cell_type": "markdown",
   "metadata": {},
   "source": [
    "I would eventually like to create a javascript representation consisting of box and lines as below. The underlying object would perhaps be a biopython SeqRecord like object. "
   ]
  },
  {
   "cell_type": "markdown",
   "metadata": {},
   "source": [
    "![figure](assembly_figure_mock_up.png)"
   ]
  },
  {
   "cell_type": "markdown",
   "metadata": {},
   "source": [
    "Clicking on one of the boxes would give access to the underlying sequence in a small text window in a simila manner as for [AngularPlasmid](http://angularplasmid.vixis.com/)\n",
    "\n",
    "![ap](angularplasmidscreenshot.png)"
   ]
  },
  {
   "cell_type": "code",
   "execution_count": 4,
   "metadata": {
    "collapsed": false
   },
   "outputs": [
    {
     "data": {
      "text/html": [
       "<html>\n",
       "          <head></head>\n",
       "          <body>\n",
       "            <canvas id='myCanvas'/>\n",
       "          </body>\n",
       "       </html>"
      ]
     },
     "metadata": {},
     "output_type": "display_data"
    }
   ],
   "source": [
    "from IPython.display import display_html, display_javascript\n",
    "html='''<html>\n",
    "          <head></head>\n",
    "          <body>\n",
    "            <canvas id='myCanvas'/>\n",
    "          </body>\n",
    "       </html>'''\n",
    "display_html(html, raw=True)\n",
    "\n",
    "\n",
    "\n",
    "\n",
    "\n",
    "js=\"\"\"function getMousePos(canvas, event) {\n",
    "\tvar rect = canvas.getBoundingClientRect();\n",
    "\treturn {\n",
    "\t\tx: event.clientX - rect.left,\n",
    "\t\ty: event.clientY - rect.top\n",
    "\t};\n",
    "}\n",
    "function isInside(pos, rect){\n",
    "\treturn pos.x > rect.x && pos.x < rect.x+rect.width && pos.y < rect.y+rect.heigth && pos.y > rect.y\n",
    "}\n",
    "\n",
    "var canvas = document.getElementById('myCanvas');\n",
    "var context = canvas.getContext('2d');\n",
    "var rect = {\n",
    "\tx:250,\n",
    "\ty:350,\n",
    "\twidth:200,\n",
    "\theigth:100\n",
    "};\n",
    "\n",
    "canvas.addEventListener('click', function(evt) {\n",
    "\tvar mousePos = getMousePos(canvas, evt);\n",
    "    debugger;\n",
    "\tif (isInside(mousePos,rect)) {\n",
    "\t\talert('clicked inside rect');\n",
    "    }else{\n",
    "        alert('clicked outside rect');\n",
    "    }\t\n",
    "}, false);\n",
    "\n",
    "context.beginPath();\n",
    "context.rect(250, 350, 200, 100); \n",
    "context.fillStyle = '#FFFFFF'; \n",
    "context.fillStyle = 'rgba(225,225,225,0.5)';\n",
    "context.fillRect(25,72,32,32);\n",
    "context.fill(); \n",
    "context.lineWidth = 2;\n",
    "context.strokeStyle = '#000000'; \n",
    "context.stroke();\n",
    "context.closePath();\n",
    "context.font = '40pt Kremlin Pro Web';\n",
    "context.fillStyle = '#000000';\n",
    "context.fillText('Start', 345, 415);\"\"\""
   ]
  },
  {
   "cell_type": "code",
   "execution_count": 5,
   "metadata": {
    "collapsed": false
   },
   "outputs": [
    {
     "data": {
      "text/html": [
       "<html>\n",
       "          <head></head>\n",
       "          <body>\n",
       "            <canvas id='myCanvas'/>\n",
       "          </body>\n",
       "       </html>"
      ]
     },
     "metadata": {},
     "output_type": "display_data"
    }
   ],
   "source": [
    "display_html(html, raw=True)"
   ]
  },
  {
   "cell_type": "code",
   "execution_count": 7,
   "metadata": {
    "collapsed": false
   },
   "outputs": [
    {
     "data": {
      "image/svg+xml": [
       "\n",
       "<!DOCTYPE html>\n",
       "<html>\n",
       "<body>\n",
       "\n",
       "<h1>My first SVG</h1>\n",
       "\n",
       "<svg width=\"100\" height=\"100\">\n",
       "   <circle cx=\"50\" cy=\"50\" r=\"40\" stroke=\"green\" stroke-width=\"4\" fill=\"yellow\" />\n",
       "   Sorry, your browser does not support inline SVG.\n",
       "</svg> \n",
       " \n",
       "</body>\n",
       "</html>"
      ]
     },
     "metadata": {},
     "output_type": "display_data"
    }
   ],
   "source": [
    "svg=\"\"\"\n",
    "<!DOCTYPE html>\n",
    "<html>\n",
    "<body>\n",
    "\n",
    "<h1>My first SVG</h1>\n",
    "\n",
    "<svg width=\"100\" height=\"100\">\n",
    "   <circle cx=\"50\" cy=\"50\" r=\"40\" stroke=\"green\" stroke-width=\"4\" fill=\"yellow\" />\n",
    "   Sorry, your browser does not support inline SVG.\n",
    "</svg> \n",
    " \n",
    "</body>\n",
    "</html>\"\"\"\n",
    "from IPython.display import display_svg\n",
    "display_svg(svg, raw=True)"
   ]
  },
  {
   "cell_type": "code",
   "execution_count": null,
   "metadata": {
    "collapsed": true
   },
   "outputs": [],
   "source": []
  }
 ],
 "metadata": {
  "anaconda-cloud": {},
  "kernelspec": {
   "display_name": "Python 3",
   "language": "python",
   "name": "python3"
  },
  "language_info": {
   "codemirror_mode": {
    "name": "ipython",
    "version": 3
   },
   "file_extension": ".py",
   "mimetype": "text/x-python",
   "name": "python",
   "nbconvert_exporter": "python",
   "pygments_lexer": "ipython3",
   "version": "3.5.2"
  }
 },
 "nbformat": 4,
 "nbformat_minor": 0
}
